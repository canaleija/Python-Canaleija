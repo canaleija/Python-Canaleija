{
  "nbformat": 4,
  "nbformat_minor": 0,
  "metadata": {
    "colab": {
      "provenance": [],
      "toc_visible": true,
      "authorship_tag": "ABX9TyOICWKAwREhFxe9yDm6OK53",
      "include_colab_link": true
    },
    "kernelspec": {
      "name": "python3",
      "display_name": "Python 3"
    },
    "language_info": {
      "name": "python"
    }
  },
  "cells": [
    {
      "cell_type": "markdown",
      "metadata": {
        "id": "view-in-github",
        "colab_type": "text"
      },
      "source": [
        "<a href=\"https://colab.research.google.com/github/canaleija/Python-Canaleija/blob/main/Colab_Canaleija.ipynb\" target=\"_parent\"><img src=\"https://colab.research.google.com/assets/colab-badge.svg\" alt=\"Open In Colab\"/></a>"
      ]
    },
    {
      "cell_type": "markdown",
      "source": [
        "# Mi primer ejemplo con COLAB-PYTHON"
      ],
      "metadata": {
        "id": "0pep7ZJKrxRU"
      }
    },
    {
      "cell_type": "code",
      "source": [
        "# En Python podemos usar comillas dobles o comillas simples\n",
        "print(\"Hola mundo\")"
      ],
      "metadata": {
        "colab": {
          "base_uri": "https://localhost:8080/"
        },
        "id": "FyjIuFe6r4Nz",
        "outputId": "03a151a3-5b09-43b4-d940-27f693438158"
      },
      "execution_count": 1,
      "outputs": [
        {
          "output_type": "stream",
          "name": "stdout",
          "text": [
            "Hola mundo\n"
          ]
        }
      ]
    },
    {
      "cell_type": "markdown",
      "source": [
        "# hola"
      ],
      "metadata": {
        "id": "qrxQqNzGsosj"
      }
    }
  ]
}